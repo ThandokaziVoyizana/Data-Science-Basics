{
 "cells": [
  {
   "cell_type": "code",
   "execution_count": 4,
   "id": "c5e8f9ef-b477-457d-83d6-8849c93b7e4d",
   "metadata": {},
   "outputs": [
    {
     "name": "stdout",
     "output_type": "stream",
     "text": [
      "\n",
      "Looking for: ['bs4==4.10.0']\n",
      "\n",
      "\u001b[33m\u001b[1mwarning  libmamba\u001b[m Could not parse mod/etag header\n",
      "\u001b[?25l\u001b[2K\u001b[0G[+] 0.0s\n",
      "\u001b[2K\u001b[1A\u001b[2K\u001b[0G[+] 0.1s\n",
      "pkgs/main/osx-64 (check zst) \u001b[90m━━━━╸\u001b[0m\u001b[33m━━━━━━━━━━━\u001b[0m   0.0 B @  ??.?MB/s Checking  0.1s\u001b[2K\u001b[1A\u001b[2K\u001b[0Gpkgs/main/osx-64 (check zst)                        Checked  0.2s\n",
      "\u001b[?25h\u001b[33m\u001b[1mwarning  libmamba\u001b[m Could not parse mod/etag header\n",
      "\u001b[?25l\u001b[2K\u001b[0G[+] 0.0s\n",
      "pkgs/main/noarch (check zst) \u001b[33m━━━━━━━━━━━━╸\u001b[0m\u001b[90m━━━\u001b[0m   0.0 B @  ??.?MB/s Checking  0.0s\u001b[2K\u001b[1A\u001b[2K\u001b[0Gpkgs/main/noarch (check zst)                        Checked  0.1s\n",
      "\u001b[?25h\u001b[33m\u001b[1mwarning  libmamba\u001b[m Could not parse mod/etag header\n",
      "\u001b[?25l\u001b[2K\u001b[0G[+] 0.0s\n",
      "\u001b[2K\u001b[1A\u001b[2K\u001b[0Gpkgs/r/osx-64 (check zst)                          Checked  0.1s\n",
      "\u001b[?25h\u001b[33m\u001b[1mwarning  libmamba\u001b[m Could not parse mod/etag header\n",
      "\u001b[?25l\u001b[2K\u001b[0G[+] 0.0s\n",
      "pkgs/r/noarch (check zst) \u001b[33m━━━━━━━━━━━━╸\u001b[0m\u001b[90m━━━━━━\u001b[0m   0.0 B @  ??.?MB/s Checking  0.0s\u001b[2K\u001b[1A\u001b[2K\u001b[0Gpkgs/r/noarch (check zst)                           Checked  0.1s\n",
      "\u001b[?25h\u001b[?25l\u001b[2K\u001b[0G[+] 0.0s\n",
      "\u001b[2K\u001b[1A\u001b[2K\u001b[0G[+] 0.1s\n",
      "pkgs/main/osx-64 \u001b[90m━━━━━━━━━━━━━━━━━━━━━━━━━━━\u001b[0m   1.8kB /   6.0MB @  33.6kB/s  0.1s\n",
      "pkgs/main/noarch \u001b[33m━━━━━━━━━━━━━━╸\u001b[0m\u001b[90m━━━━━━━━━━━━\u001b[0m   0.0 B /  ??.?MB @  ??.?MB/s  0.1s\n",
      "pkgs/r/osx-64    \u001b[90m━━━━╸\u001b[0m\u001b[33m━━━━━━━━━━━━━━━╸\u001b[0m\u001b[90m━━━━━━\u001b[0m   0.0 B /  ??.?MB @  ??.?MB/s  0.1s\n",
      "pkgs/r/noarch    \u001b[90m╸\u001b[0m\u001b[33m━━━━━━━━━━━━━━━╸\u001b[0m\u001b[90m━━━━━━━━━━\u001b[0m   0.0 B /  ??.?MB @  ??.?MB/s  0.1s\u001b[2K\u001b[1A\u001b[2K\u001b[1A\u001b[2K\u001b[1A\u001b[2K\u001b[1A\u001b[2K\u001b[0G[+] 0.2s\n",
      "pkgs/main/osx-64 ╸\u001b[90m━━━━━━━━━━━━━━━━━━━━━━━━━━\u001b[0m 244.7kB /   6.0MB @   1.6MB/s  0.2s\n",
      "pkgs/main/noarch \u001b[90m╸\u001b[0m\u001b[33m━━━━━━━━━━━━━━━╸\u001b[0m\u001b[90m━━━━━━━━━━\u001b[0m   0.0 B /  ??.?MB @  ??.?MB/s  0.2s\n",
      "pkgs/r/osx-64    \u001b[90m━━━━━━╸\u001b[0m\u001b[33m━━━━━━━━━━━━━━━╸\u001b[0m\u001b[90m━━━━\u001b[0m   0.0 B /  ??.?MB @  ??.?MB/s  0.2s\n",
      "pkgs/r/noarch    \u001b[90m━━╸\u001b[0m\u001b[33m━━━━━━━━━━━━━━━╸\u001b[0m\u001b[90m━━━━━━━━\u001b[0m   0.0 B /  ??.?MB @  ??.?MB/s  0.2s\u001b[2K\u001b[1A\u001b[2K\u001b[1A\u001b[2K\u001b[1A\u001b[2K\u001b[1A\u001b[2K\u001b[0G[+] 0.3s\n",
      "pkgs/main/osx-64 ━╸\u001b[90m━━━━━━━━━━━━━━━━━━━━━━━━━\u001b[0m 506.8kB /   6.0MB @   2.0MB/s  0.3s\n",
      "pkgs/main/noarch ━━━╸\u001b[90m━━━━━━━━━━━━━━━━━━━━━━━\u001b[0m 126.8kB / 715.5kB @ 491.5kB/s  0.3s\n",
      "pkgs/r/osx-64    \u001b[90m━━━━━━━━━╸\u001b[0m\u001b[33m━━━━━━━━━━━━━━━╸\u001b[0m\u001b[90m━\u001b[0m   0.0 B /  ??.?MB @  ??.?MB/s  0.3s\n",
      "pkgs/r/noarch    \u001b[90m━━━━━━━━━━━━━━━━━━━━━━━━━━━\u001b[0m  14.1kB /   2.1MB @  54.5kB/s  0.3s\u001b[2K\u001b[1A\u001b[2K\u001b[1A\u001b[2K\u001b[1A\u001b[2K\u001b[1A\u001b[2K\u001b[0G[+] 0.4s\n",
      "pkgs/main/osx-64 ━╸\u001b[90m━━━━━━━━━━━━━━━━━━━━━━━━━\u001b[0m 670.7kB /   6.0MB @   1.8MB/s  0.4s\n",
      "pkgs/main/noarch ━━━╸\u001b[90m━━━━━━━━━━━━━━━━━━━━━━━\u001b[0m 126.8kB / 715.5kB @ 346.0kB/s  0.4s\n",
      "pkgs/r/osx-64    ━━━╸\u001b[90m━━━━━━━━━━━━━━━━━━━━━━━\u001b[0m 126.8kB / 694.3kB @ 346.2kB/s  0.4s\n",
      "pkgs/r/noarch    ╸\u001b[90m━━━━━━━━━━━━━━━━━━━━━━━━━━\u001b[0m 126.8kB /   2.1MB @ 346.3kB/s  0.4s\u001b[2K\u001b[1A\u001b[2K\u001b[1A\u001b[2K\u001b[1A\u001b[2K\u001b[1A\u001b[2K\u001b[0G[+] 0.5s\n",
      "pkgs/main/osx-64 ━━━╸\u001b[90m━━━━━━━━━━━━━━━━━━━━━━━\u001b[0m 915.8kB /   6.0MB @   2.0MB/s  0.5s\n",
      "pkgs/main/noarch ━━━━━━━━╸\u001b[90m━━━━━━━━━━━━━━━━━━\u001b[0m 244.7kB / 715.5kB @ 521.9kB/s  0.5s\n",
      "pkgs/r/osx-64    ━━━╸\u001b[90m━━━━━━━━━━━━━━━━━━━━━━━\u001b[0m 126.8kB / 694.3kB @ 270.7kB/s  0.5s\n",
      "pkgs/r/noarch    ━╸\u001b[90m━━━━━━━━━━━━━━━━━━━━━━━━━\u001b[0m 228.3kB /   2.1MB @ 487.4kB/s  0.5s\u001b[2K\u001b[1A\u001b[2K\u001b[1A\u001b[2K\u001b[1A\u001b[2K\u001b[1A\u001b[2K\u001b[0G[+] 0.6s\n",
      "pkgs/main/osx-64 ━━━━╸\u001b[90m━━━━━━━━━━━━━━━━━━━━━━\u001b[0m   1.2MB /   6.0MB @   2.1MB/s  0.6s\n",
      "pkgs/main/noarch ━━━━━━━━╸\u001b[90m━━━━━━━━━━━━━━━━━━\u001b[0m 244.7kB / 715.5kB @ 429.0kB/s  0.6s\n",
      "pkgs/r/osx-64    ━━━━━━━━╸\u001b[90m━━━━━━━━━━━━━━━━━━\u001b[0m 244.7kB / 694.3kB @ 429.2kB/s  0.6s\n",
      "pkgs/r/noarch    ━╸\u001b[90m━━━━━━━━━━━━━━━━━━━━━━━━━\u001b[0m 244.7kB /   2.1MB @ 429.3kB/s  0.6s\u001b[2K\u001b[1A\u001b[2K\u001b[1A\u001b[2K\u001b[1A\u001b[2K\u001b[1A\u001b[2K\u001b[0G[+] 0.7s\n",
      "pkgs/main/osx-64 ━━━━╸\u001b[90m━━━━━━━━━━━━━━━━━━━━━━\u001b[0m   1.3MB /   6.0MB @   1.9MB/s  0.7s\n",
      "pkgs/main/noarch ━━━━━━━━━━━━━━━━━━━━╸\u001b[90m━━━━━━\u001b[0m 571.7kB / 715.5kB @ 837.3kB/s  0.7s\n",
      "pkgs/r/osx-64    ━━━━━━━━╸\u001b[90m━━━━━━━━━━━━━━━━━━\u001b[0m 244.7kB / 694.3kB @ 358.5kB/s  0.7s\n",
      "pkgs/r/noarch    ━━━╸\u001b[90m━━━━━━━━━━━━━━━━━━━━━━━\u001b[0m 375.8kB /   2.1MB @ 549.1kB/s  0.7s\u001b[2K\u001b[1A\u001b[2K\u001b[1A\u001b[2K\u001b[1A\u001b[2K\u001b[1A\u001b[2K\u001b[0G[+] 0.8s\n",
      "pkgs/main/osx-64 ━━━━╸\u001b[90m━━━━━━━━━━━━━━━━━━━━━━\u001b[0m   1.3MB /   6.0MB @   1.7MB/s  0.8s\n",
      "pkgs/main/noarch ━━━━━━━━━━━━━━━━━━━━━╸\u001b[90m━━━━━\u001b[0m 604.5kB / 715.5kB @ 770.9kB/s  0.8s\n",
      "pkgs/r/osx-64    ━━━━━━━━━━━━━━━╸\u001b[90m━━━━━━━━━━━\u001b[0m 424.9kB / 694.3kB @ 542.1kB/s  0.8s\n",
      "pkgs/r/noarch    ━━━━━━╸\u001b[90m━━━━━━━━━━━━━━━━━━━━\u001b[0m 605.1kB /   2.1MB @ 764.5kB/s  0.8s\u001b[2K\u001b[1A\u001b[2K\u001b[1A\u001b[2K\u001b[1A\u001b[2K\u001b[1A\u001b[2K\u001b[0G[+] 0.9s\n",
      "pkgs/main/osx-64 ━━━━━╸\u001b[90m━━━━━━━━━━━━━━━━━━━━━\u001b[0m   1.5MB /   6.0MB @   1.6MB/s  0.9s\n",
      "pkgs/main/noarch ━━━━━━━━━━━━━━━━━━━━━━━━╸\u001b[90m━━\u001b[0m 670.0kB / 715.5kB @ 749.1kB/s  0.9s\n",
      "pkgs/r/osx-64    ━━━━━━━━━━━━━━━━━━━━━━╸\u001b[90m━━━━\u001b[0m 604.5kB / 694.3kB @ 676.0kB/s  0.9s\n",
      "pkgs/r/noarch    ━━━━━━━╸\u001b[90m━━━━━━━━━━━━━━━━━━━\u001b[0m 637.9kB /   2.1MB @ 712.3kB/s  0.9s\u001b[2K\u001b[1A\u001b[2K\u001b[1A\u001b[2K\u001b[1A\u001b[2K\u001b[1A\u001b[2K\u001b[0Gpkgs/r/osx-64                                      694.3kB @ 711.5kB/s  1.0s\n",
      "[+] 1.0s\n",
      "pkgs/main/osx-64 ━━━━━━╸\u001b[90m━━━━━━━━━━━━━━━━━━━━\u001b[0m   1.6MB /   6.0MB @   1.6MB/s  1.0s\n",
      "pkgs/main/noarch ━━━━━━━━━━━━━━━━━━━━━━━━╸\u001b[90m━━\u001b[0m 670.0kB / 715.5kB @ 669.5kB/s  1.0s\n",
      "pkgs/r/noarch    ━━━━━━━━━━╸\u001b[90m━━━━━━━━━━━━━━━━\u001b[0m 866.6kB /   2.1MB @ 866.2kB/s  1.0s\u001b[2K\u001b[1A\u001b[2K\u001b[1A\u001b[2K\u001b[1A\u001b[2K\u001b[0Gpkgs/main/noarch                                   715.5kB @ 667.3kB/s  1.1s\n",
      "[+] 1.1s\n",
      "pkgs/main/osx-64 ━━━━━━╸\u001b[90m━━━━━━━━━━━━━━━━━━━━\u001b[0m   1.7MB /   6.0MB @   1.6MB/s  1.1s\n",
      "pkgs/r/noarch    ━━━━━━━━━━━╸\u001b[90m━━━━━━━━━━━━━━━\u001b[0m 948.5kB /   2.1MB @ 898.7kB/s  1.1s\u001b[2K\u001b[1A\u001b[2K\u001b[1A\u001b[2K\u001b[0G[+] 1.2s\n",
      "pkgs/main/osx-64 ━━━━━━━╸\u001b[90m━━━━━━━━━━━━━━━━━━━\u001b[0m   1.9MB /   6.0MB @   1.6MB/s  1.2s\n",
      "pkgs/r/noarch    ━━━━━━━━━━━━━━━╸\u001b[90m━━━━━━━━━━━\u001b[0m   1.2MB /   2.1MB @   1.1MB/s  1.2s\u001b[2K\u001b[1A\u001b[2K\u001b[1A\u001b[2K\u001b[0G[+] 1.3s\n",
      "pkgs/main/osx-64 ━━━━━━━━╸\u001b[90m━━━━━━━━━━━━━━━━━━\u001b[0m   2.1MB /   6.0MB @   1.6MB/s  1.3s\n",
      "pkgs/r/noarch    ━━━━━━━━━━━━━━━━━━╸\u001b[90m━━━━━━━━\u001b[0m   1.5MB /   2.1MB @   1.2MB/s  1.3s\u001b[2K\u001b[1A\u001b[2K\u001b[1A\u001b[2K\u001b[0G[+] 1.4s\n",
      "pkgs/main/osx-64 ━━━━━━━━╸\u001b[90m━━━━━━━━━━━━━━━━━━\u001b[0m   2.2MB /   6.0MB @   1.6MB/s  1.4s\n",
      "pkgs/r/noarch    ━━━━━━━━━━━━━━━━━━━━━━━╸\u001b[90m━━━\u001b[0m   1.8MB /   2.1MB @   1.3MB/s  1.4s\u001b[2K\u001b[1A\u001b[2K\u001b[1A\u001b[2K\u001b[0Gpkgs/r/noarch                                        2.1MB @   1.4MB/s  1.4s\n",
      "[+] 1.5s\n",
      "pkgs/main/osx-64 ━━━━━━━━━╸\u001b[90m━━━━━━━━━━━━━━━━━\u001b[0m   2.3MB /   6.0MB @   1.6MB/s  1.5s\u001b[2K\u001b[1A\u001b[2K\u001b[0G[+] 1.6s\n",
      "pkgs/main/osx-64 ━━━━━━━━━━━╸\u001b[90m━━━━━━━━━━━━━━━\u001b[0m   2.7MB /   6.0MB @   1.8MB/s  1.6s\u001b[2K\u001b[1A\u001b[2K\u001b[0G[+] 1.7s\n",
      "pkgs/main/osx-64 ━━━━━━━━━━━━━╸\u001b[90m━━━━━━━━━━━━━\u001b[0m   3.2MB /   6.0MB @   1.9MB/s  1.7s\u001b[2K\u001b[1A\u001b[2K\u001b[0G[+] 1.8s\n",
      "pkgs/main/osx-64 ━━━━━━━━━━━━━━╸\u001b[90m━━━━━━━━━━━━\u001b[0m   3.6MB /   6.0MB @   2.0MB/s  1.8s\u001b[2K\u001b[1A\u001b[2K\u001b[0G[+] 1.9s\n",
      "pkgs/main/osx-64 ━━━━━━━━━━━━━━━━╸\u001b[90m━━━━━━━━━━\u001b[0m   4.0MB /   6.0MB @   2.1MB/s  1.9s\u001b[2K\u001b[1A\u001b[2K\u001b[0G[+] 2.0s\n",
      "pkgs/main/osx-64 ━━━━━━━━━━━━━━━━╸\u001b[90m━━━━━━━━━━\u001b[0m   4.0MB /   6.0MB @   2.0MB/s  2.0s\u001b[2K\u001b[1A\u001b[2K\u001b[0G[+] 2.1s\n",
      "pkgs/main/osx-64 ━━━━━━━━━━━━━━━━━╸\u001b[90m━━━━━━━━━\u001b[0m   4.1MB /   6.0MB @   2.0MB/s  2.1s\u001b[2K\u001b[1A\u001b[2K\u001b[0G[+] 2.2s\n",
      "pkgs/main/osx-64 ━━━━━━━━━━━━━━━━━━╸\u001b[90m━━━━━━━━\u001b[0m   4.3MB /   6.0MB @   2.0MB/s  2.2s\u001b[2K\u001b[1A\u001b[2K\u001b[0G[+] 2.3s\n",
      "pkgs/main/osx-64 ━━━━━━━━━━━━━━━━━━━╸\u001b[90m━━━━━━━\u001b[0m   4.6MB /   6.0MB @   2.0MB/s  2.3s\u001b[2K\u001b[1A\u001b[2K\u001b[0G[+] 2.4s\n",
      "pkgs/main/osx-64 ━━━━━━━━━━━━━━━━━━━━━╸\u001b[90m━━━━━\u001b[0m   5.0MB /   6.0MB @   2.1MB/s  2.4s\u001b[2K\u001b[1A\u001b[2K\u001b[0G[+] 2.5s\n",
      "pkgs/main/osx-64 ━━━━━━━━━━━━━━━━━━━━━━╸\u001b[90m━━━━\u001b[0m   5.3MB /   6.0MB @   2.2MB/s  2.5s\u001b[2K\u001b[1A\u001b[2K\u001b[0G[+] 2.6s\n",
      "pkgs/main/osx-64 ━━━━━━━━━━━━━━━━━━━━━━━╸\u001b[90m━━━\u001b[0m   5.6MB /   6.0MB @   2.2MB/s  2.6s\u001b[2K\u001b[1A\u001b[2K\u001b[0G[+] 2.7s\n",
      "pkgs/main/osx-64 ━━━━━━━━━━━━━━━━━━━━━━━╸\u001b[90m━━━\u001b[0m   5.6MB /   6.0MB @   2.2MB/s  2.7s\u001b[2K\u001b[1A\u001b[2K\u001b[0G[+] 2.8s\n",
      "pkgs/main/osx-64 ━━━━━━━━━━━━━━━━━━━━━━━╸\u001b[90m━━━\u001b[0m   5.6MB /   6.0MB @   2.2MB/s  2.8s\u001b[2K\u001b[1A\u001b[2K\u001b[0G[+] 2.9s\n",
      "pkgs/main/osx-64 ━━━━━━━━━━━━━━━━━━━━━━━╸\u001b[90m━━━\u001b[0m   5.6MB /   6.0MB @   2.2MB/s  2.9s\u001b[2K\u001b[1A\u001b[2K\u001b[0G[+] 3.0s\n",
      "pkgs/main/osx-64 ━━━━━━━━━━━━━━━━━━━━━━━╸\u001b[90m━━━\u001b[0m   5.6MB /   6.0MB @   2.2MB/s  3.0s\u001b[2K\u001b[1A\u001b[2K\u001b[0G[+] 3.1s\n",
      "pkgs/main/osx-64 ━━━━━━━━━━━━━━━━━━━━━━━━╸\u001b[90m━━\u001b[0m   5.6MB /   6.0MB @   1.8MB/s  3.1s\u001b[2K\u001b[1A\u001b[2K\u001b[0G[+] 3.2s\n",
      "pkgs/main/osx-64 ━━━━━━━━━━━━━━━━━━━━━━━━╸\u001b[90m━━\u001b[0m   5.6MB /   6.0MB @   1.8MB/s  3.2s\u001b[2K\u001b[1A\u001b[2K\u001b[0Gpkgs/main/osx-64                                     6.0MB @   1.9MB/s  3.2s\n",
      "\u001b[?25h\n",
      "Pinned packages:\n",
      "  - python 3.12.*\n",
      "\n",
      "\n",
      "Could not solve for environment specs\n",
      "The following packages are incompatible\n",
      "├─ \u001b[32mbs4 4.10.0 \u001b[0m is installable and it requires\n",
      "│  └─ \u001b[32mbeautifulsoup4 >=4.10.0,<4.10.1.0a0 \u001b[0m, which can be installed;\n",
      "├─ \u001b[32mpandas\u001b[0m is installable with the potential options\n",
      "│  ├─ \u001b[31mpandas [2.2.1|2.2.2]\u001b[0m would require\n",
      "│  │  └─ \u001b[31mbeautifulsoup4 >=4.11.2 \u001b[0m, which conflicts with any installable versions previously reported;\n",
      "│  ├─ \u001b[32mpandas [0.20.3|0.21.0|...|0.24.2]\u001b[0m would require\n",
      "│  │  └─ \u001b[32mpython >=2.7,<2.8.0a0 \u001b[0m, which can be installed;\n",
      "│  ├─ \u001b[32mpandas [0.20.3|0.21.0|...|0.23.4]\u001b[0m would require\n",
      "│  │  └─ \u001b[32mpython >=3.5,<3.6.0a0 \u001b[0m, which can be installed;\n",
      "│  ├─ \u001b[32mpandas [0.20.3|0.21.0|...|1.1.5]\u001b[0m would require\n",
      "│  │  └─ \u001b[32mpython >=3.6,<3.7.0a0 \u001b[0m, which can be installed;\n",
      "│  ├─ \u001b[32mpandas [0.23.2|0.23.3|...|1.3.5]\u001b[0m would require\n",
      "│  │  └─ \u001b[32mpython >=3.7,<3.8.0a0 \u001b[0m, which can be installed;\n",
      "│  ├─ \u001b[32mpandas [0.25.3|1.0.0|...|2.0.3]\u001b[0m would require\n",
      "│  │  └─ \u001b[32mpython >=3.8,<3.9.0a0 \u001b[0m, which can be installed;\n",
      "│  ├─ \u001b[32mpandas [1.1.3|1.1.5|...|2.2.2]\u001b[0m would require\n",
      "│  │  └─ \u001b[32mpython >=3.9,<3.10.0a0 \u001b[0m, which can be installed;\n",
      "│  ├─ \u001b[32mpandas 1.3.0\u001b[0m would require\n",
      "│  │  └─ \u001b[32mpython >=3.7.1,<3.8.0a0 \u001b[0m, which can be installed;\n",
      "│  ├─ \u001b[32mpandas [1.3.5|1.4.1|...|2.2.2]\u001b[0m would require\n",
      "│  │  └─ \u001b[32mpython >=3.10,<3.11.0a0 \u001b[0m, which can be installed;\n",
      "│  ├─ \u001b[32mpandas [1.5.2|1.5.3|...|2.2.2]\u001b[0m would require\n",
      "│  │  └─ \u001b[32mpython >=3.11,<3.12.0a0 \u001b[0m, which can be installed;\n",
      "│  └─ \u001b[31mpandas [2.1.1|2.1.4]\u001b[0m would require\n",
      "│     └─ \u001b[31mbeautifulsoup4 >=4.11.1 \u001b[0m, which conflicts with any installable versions previously reported;\n",
      "└─ \u001b[31mpython_abi\u001b[0m is not installable because it requires\n",
      "   └─ \u001b[31mpython 3.12.* *_cpython\u001b[0m, which conflicts with any installable versions previously reported.\n",
      "Collecting lxml==4.6.4\n",
      "  Using cached lxml-4.6.4.tar.gz (3.2 MB)\n",
      "  Preparing metadata (setup.py) ... \u001b[?25ldone\n",
      "\u001b[?25hBuilding wheels for collected packages: lxml\n",
      "  Building wheel for lxml (setup.py) ... \u001b[?25lerror\n",
      "  \u001b[1;31merror\u001b[0m: \u001b[1msubprocess-exited-with-error\u001b[0m\n",
      "  \n",
      "  \u001b[31m×\u001b[0m \u001b[32mpython setup.py bdist_wheel\u001b[0m did not run successfully.\n",
      "  \u001b[31m│\u001b[0m exit code: \u001b[1;36m1\u001b[0m\n",
      "  \u001b[31m╰─>\u001b[0m \u001b[31m[108 lines of output]\u001b[0m\n",
      "  \u001b[31m   \u001b[0m Building lxml version 4.6.4.\n",
      "  \u001b[31m   \u001b[0m /private/var/folders/bw/zk_mjw4j7wj3_t08__wfjnl00000gn/T/pip-install-31fjnobd/lxml_037ffca760aa438c97febfe6be818e44/setup.py:67: DeprecationWarning: pkg_resources is deprecated as an API. See https://setuptools.pypa.io/en/latest/pkg_resources.html\n",
      "  \u001b[31m   \u001b[0m   import pkg_resources\n",
      "  \u001b[31m   \u001b[0m Building without Cython.\n",
      "  \u001b[31m   \u001b[0m Building against libxml2 2.13.1 and libxslt 1.1.39\n",
      "  \u001b[31m   \u001b[0m Building against libxml2/libxslt in one of the following directories:\n",
      "  \u001b[31m   \u001b[0m   /opt/anaconda3/lib\n",
      "  \u001b[31m   \u001b[0m   /opt/anaconda3/lib\n",
      "  \u001b[31m   \u001b[0m   /opt/anaconda3/lib\n",
      "  \u001b[31m   \u001b[0m   /opt/anaconda3/lib\n",
      "  \u001b[31m   \u001b[0m   /opt/anaconda3/lib\n",
      "  \u001b[31m   \u001b[0m running bdist_wheel\n",
      "  \u001b[31m   \u001b[0m running build\n",
      "  \u001b[31m   \u001b[0m running build_py\n",
      "  \u001b[31m   \u001b[0m creating build\n",
      "  \u001b[31m   \u001b[0m creating build/lib.macosx-10.9-x86_64-cpython-312\n",
      "  \u001b[31m   \u001b[0m creating build/lib.macosx-10.9-x86_64-cpython-312/lxml\n",
      "  \u001b[31m   \u001b[0m copying src/lxml/_elementpath.py -> build/lib.macosx-10.9-x86_64-cpython-312/lxml\n",
      "  \u001b[31m   \u001b[0m copying src/lxml/sax.py -> build/lib.macosx-10.9-x86_64-cpython-312/lxml\n",
      "  \u001b[31m   \u001b[0m copying src/lxml/pyclasslookup.py -> build/lib.macosx-10.9-x86_64-cpython-312/lxml\n",
      "  \u001b[31m   \u001b[0m copying src/lxml/__init__.py -> build/lib.macosx-10.9-x86_64-cpython-312/lxml\n",
      "  \u001b[31m   \u001b[0m copying src/lxml/builder.py -> build/lib.macosx-10.9-x86_64-cpython-312/lxml\n",
      "  \u001b[31m   \u001b[0m copying src/lxml/doctestcompare.py -> build/lib.macosx-10.9-x86_64-cpython-312/lxml\n",
      "  \u001b[31m   \u001b[0m copying src/lxml/usedoctest.py -> build/lib.macosx-10.9-x86_64-cpython-312/lxml\n",
      "  \u001b[31m   \u001b[0m copying src/lxml/cssselect.py -> build/lib.macosx-10.9-x86_64-cpython-312/lxml\n",
      "  \u001b[31m   \u001b[0m copying src/lxml/ElementInclude.py -> build/lib.macosx-10.9-x86_64-cpython-312/lxml\n",
      "  \u001b[31m   \u001b[0m creating build/lib.macosx-10.9-x86_64-cpython-312/lxml/includes\n",
      "  \u001b[31m   \u001b[0m copying src/lxml/includes/__init__.py -> build/lib.macosx-10.9-x86_64-cpython-312/lxml/includes\n",
      "  \u001b[31m   \u001b[0m creating build/lib.macosx-10.9-x86_64-cpython-312/lxml/html\n",
      "  \u001b[31m   \u001b[0m copying src/lxml/html/soupparser.py -> build/lib.macosx-10.9-x86_64-cpython-312/lxml/html\n",
      "  \u001b[31m   \u001b[0m copying src/lxml/html/defs.py -> build/lib.macosx-10.9-x86_64-cpython-312/lxml/html\n",
      "  \u001b[31m   \u001b[0m copying src/lxml/html/_setmixin.py -> build/lib.macosx-10.9-x86_64-cpython-312/lxml/html\n",
      "  \u001b[31m   \u001b[0m copying src/lxml/html/clean.py -> build/lib.macosx-10.9-x86_64-cpython-312/lxml/html\n",
      "  \u001b[31m   \u001b[0m copying src/lxml/html/_diffcommand.py -> build/lib.macosx-10.9-x86_64-cpython-312/lxml/html\n",
      "  \u001b[31m   \u001b[0m copying src/lxml/html/html5parser.py -> build/lib.macosx-10.9-x86_64-cpython-312/lxml/html\n",
      "  \u001b[31m   \u001b[0m copying src/lxml/html/__init__.py -> build/lib.macosx-10.9-x86_64-cpython-312/lxml/html\n",
      "  \u001b[31m   \u001b[0m copying src/lxml/html/formfill.py -> build/lib.macosx-10.9-x86_64-cpython-312/lxml/html\n",
      "  \u001b[31m   \u001b[0m copying src/lxml/html/builder.py -> build/lib.macosx-10.9-x86_64-cpython-312/lxml/html\n",
      "  \u001b[31m   \u001b[0m copying src/lxml/html/ElementSoup.py -> build/lib.macosx-10.9-x86_64-cpython-312/lxml/html\n",
      "  \u001b[31m   \u001b[0m copying src/lxml/html/_html5builder.py -> build/lib.macosx-10.9-x86_64-cpython-312/lxml/html\n",
      "  \u001b[31m   \u001b[0m copying src/lxml/html/usedoctest.py -> build/lib.macosx-10.9-x86_64-cpython-312/lxml/html\n",
      "  \u001b[31m   \u001b[0m copying src/lxml/html/diff.py -> build/lib.macosx-10.9-x86_64-cpython-312/lxml/html\n",
      "  \u001b[31m   \u001b[0m creating build/lib.macosx-10.9-x86_64-cpython-312/lxml/isoschematron\n",
      "  \u001b[31m   \u001b[0m copying src/lxml/isoschematron/__init__.py -> build/lib.macosx-10.9-x86_64-cpython-312/lxml/isoschematron\n",
      "  \u001b[31m   \u001b[0m copying src/lxml/etree.h -> build/lib.macosx-10.9-x86_64-cpython-312/lxml\n",
      "  \u001b[31m   \u001b[0m copying src/lxml/etree_api.h -> build/lib.macosx-10.9-x86_64-cpython-312/lxml\n",
      "  \u001b[31m   \u001b[0m copying src/lxml/lxml.etree.h -> build/lib.macosx-10.9-x86_64-cpython-312/lxml\n",
      "  \u001b[31m   \u001b[0m copying src/lxml/lxml.etree_api.h -> build/lib.macosx-10.9-x86_64-cpython-312/lxml\n",
      "  \u001b[31m   \u001b[0m copying src/lxml/includes/xmlerror.pxd -> build/lib.macosx-10.9-x86_64-cpython-312/lxml/includes\n",
      "  \u001b[31m   \u001b[0m copying src/lxml/includes/c14n.pxd -> build/lib.macosx-10.9-x86_64-cpython-312/lxml/includes\n",
      "  \u001b[31m   \u001b[0m copying src/lxml/includes/xmlschema.pxd -> build/lib.macosx-10.9-x86_64-cpython-312/lxml/includes\n",
      "  \u001b[31m   \u001b[0m copying src/lxml/includes/__init__.pxd -> build/lib.macosx-10.9-x86_64-cpython-312/lxml/includes\n",
      "  \u001b[31m   \u001b[0m copying src/lxml/includes/schematron.pxd -> build/lib.macosx-10.9-x86_64-cpython-312/lxml/includes\n",
      "  \u001b[31m   \u001b[0m copying src/lxml/includes/tree.pxd -> build/lib.macosx-10.9-x86_64-cpython-312/lxml/includes\n",
      "  \u001b[31m   \u001b[0m copying src/lxml/includes/uri.pxd -> build/lib.macosx-10.9-x86_64-cpython-312/lxml/includes\n",
      "  \u001b[31m   \u001b[0m copying src/lxml/includes/etreepublic.pxd -> build/lib.macosx-10.9-x86_64-cpython-312/lxml/includes\n",
      "  \u001b[31m   \u001b[0m copying src/lxml/includes/xpath.pxd -> build/lib.macosx-10.9-x86_64-cpython-312/lxml/includes\n",
      "  \u001b[31m   \u001b[0m copying src/lxml/includes/htmlparser.pxd -> build/lib.macosx-10.9-x86_64-cpython-312/lxml/includes\n",
      "  \u001b[31m   \u001b[0m copying src/lxml/includes/xslt.pxd -> build/lib.macosx-10.9-x86_64-cpython-312/lxml/includes\n",
      "  \u001b[31m   \u001b[0m copying src/lxml/includes/config.pxd -> build/lib.macosx-10.9-x86_64-cpython-312/lxml/includes\n",
      "  \u001b[31m   \u001b[0m copying src/lxml/includes/xmlparser.pxd -> build/lib.macosx-10.9-x86_64-cpython-312/lxml/includes\n",
      "  \u001b[31m   \u001b[0m copying src/lxml/includes/xinclude.pxd -> build/lib.macosx-10.9-x86_64-cpython-312/lxml/includes\n",
      "  \u001b[31m   \u001b[0m copying src/lxml/includes/dtdvalid.pxd -> build/lib.macosx-10.9-x86_64-cpython-312/lxml/includes\n",
      "  \u001b[31m   \u001b[0m copying src/lxml/includes/relaxng.pxd -> build/lib.macosx-10.9-x86_64-cpython-312/lxml/includes\n",
      "  \u001b[31m   \u001b[0m copying src/lxml/includes/lxml-version.h -> build/lib.macosx-10.9-x86_64-cpython-312/lxml/includes\n",
      "  \u001b[31m   \u001b[0m copying src/lxml/includes/etree_defs.h -> build/lib.macosx-10.9-x86_64-cpython-312/lxml/includes\n",
      "  \u001b[31m   \u001b[0m creating build/lib.macosx-10.9-x86_64-cpython-312/lxml/isoschematron/resources\n",
      "  \u001b[31m   \u001b[0m creating build/lib.macosx-10.9-x86_64-cpython-312/lxml/isoschematron/resources/rng\n",
      "  \u001b[31m   \u001b[0m copying src/lxml/isoschematron/resources/rng/iso-schematron.rng -> build/lib.macosx-10.9-x86_64-cpython-312/lxml/isoschematron/resources/rng\n",
      "  \u001b[31m   \u001b[0m creating build/lib.macosx-10.9-x86_64-cpython-312/lxml/isoschematron/resources/xsl\n",
      "  \u001b[31m   \u001b[0m copying src/lxml/isoschematron/resources/xsl/XSD2Schtrn.xsl -> build/lib.macosx-10.9-x86_64-cpython-312/lxml/isoschematron/resources/xsl\n",
      "  \u001b[31m   \u001b[0m copying src/lxml/isoschematron/resources/xsl/RNG2Schtrn.xsl -> build/lib.macosx-10.9-x86_64-cpython-312/lxml/isoschematron/resources/xsl\n",
      "  \u001b[31m   \u001b[0m creating build/lib.macosx-10.9-x86_64-cpython-312/lxml/isoschematron/resources/xsl/iso-schematron-xslt1\n",
      "  \u001b[31m   \u001b[0m copying src/lxml/isoschematron/resources/xsl/iso-schematron-xslt1/iso_abstract_expand.xsl -> build/lib.macosx-10.9-x86_64-cpython-312/lxml/isoschematron/resources/xsl/iso-schematron-xslt1\n",
      "  \u001b[31m   \u001b[0m copying src/lxml/isoschematron/resources/xsl/iso-schematron-xslt1/iso_dsdl_include.xsl -> build/lib.macosx-10.9-x86_64-cpython-312/lxml/isoschematron/resources/xsl/iso-schematron-xslt1\n",
      "  \u001b[31m   \u001b[0m copying src/lxml/isoschematron/resources/xsl/iso-schematron-xslt1/iso_schematron_skeleton_for_xslt1.xsl -> build/lib.macosx-10.9-x86_64-cpython-312/lxml/isoschematron/resources/xsl/iso-schematron-xslt1\n",
      "  \u001b[31m   \u001b[0m copying src/lxml/isoschematron/resources/xsl/iso-schematron-xslt1/iso_svrl_for_xslt1.xsl -> build/lib.macosx-10.9-x86_64-cpython-312/lxml/isoschematron/resources/xsl/iso-schematron-xslt1\n",
      "  \u001b[31m   \u001b[0m copying src/lxml/isoschematron/resources/xsl/iso-schematron-xslt1/iso_schematron_message.xsl -> build/lib.macosx-10.9-x86_64-cpython-312/lxml/isoschematron/resources/xsl/iso-schematron-xslt1\n",
      "  \u001b[31m   \u001b[0m copying src/lxml/isoschematron/resources/xsl/iso-schematron-xslt1/readme.txt -> build/lib.macosx-10.9-x86_64-cpython-312/lxml/isoschematron/resources/xsl/iso-schematron-xslt1\n",
      "  \u001b[31m   \u001b[0m running build_ext\n",
      "  \u001b[31m   \u001b[0m building 'lxml.etree' extension\n",
      "  \u001b[31m   \u001b[0m creating build/temp.macosx-10.9-x86_64-cpython-312\n",
      "  \u001b[31m   \u001b[0m creating build/temp.macosx-10.9-x86_64-cpython-312/src\n",
      "  \u001b[31m   \u001b[0m creating build/temp.macosx-10.9-x86_64-cpython-312/src/lxml\n",
      "  \u001b[31m   \u001b[0m clang -fno-strict-overflow -DNDEBUG -O2 -Wall -fPIC -O2 -isystem /opt/anaconda3/include -fPIC -O2 -isystem /opt/anaconda3/include -DCYTHON_CLINE_IN_TRACEBACK=0 -I/opt/anaconda3/include/libxml2 -I/opt/anaconda3/include -Isrc -Isrc/lxml/includes -I/opt/anaconda3/include/python3.12 -c src/lxml/etree.c -o build/temp.macosx-10.9-x86_64-cpython-312/src/lxml/etree.o -w -flat_namespace\n",
      "  \u001b[31m   \u001b[0m src/lxml/etree.c:288:12: fatal error: 'longintrepr.h' file not found\n",
      "  \u001b[31m   \u001b[0m   #include \"longintrepr.h\"\n",
      "  \u001b[31m   \u001b[0m            ^~~~~~~~~~~~~~~\n",
      "  \u001b[31m   \u001b[0m 1 error generated.\n",
      "  \u001b[31m   \u001b[0m Compile failed: command '/usr/bin/clang' failed with exit code 1\n",
      "  \u001b[31m   \u001b[0m creating var\n",
      "  \u001b[31m   \u001b[0m creating var/folders\n",
      "  \u001b[31m   \u001b[0m creating var/folders/bw\n",
      "  \u001b[31m   \u001b[0m creating var/folders/bw/zk_mjw4j7wj3_t08__wfjnl00000gn\n",
      "  \u001b[31m   \u001b[0m creating var/folders/bw/zk_mjw4j7wj3_t08__wfjnl00000gn/T\n",
      "  \u001b[31m   \u001b[0m cc -I/opt/anaconda3/include/libxml2 -I/opt/anaconda3/include -I/usr/include/libxml2 -c /var/folders/bw/zk_mjw4j7wj3_t08__wfjnl00000gn/T/xmlXPathInitpzk__23o.c -o var/folders/bw/zk_mjw4j7wj3_t08__wfjnl00000gn/T/xmlXPathInitpzk__23o.o\n",
      "  \u001b[31m   \u001b[0m /var/folders/bw/zk_mjw4j7wj3_t08__wfjnl00000gn/T/xmlXPathInitpzk__23o.c:3:5: warning: 'xmlXPathInit' is deprecated [-Wdeprecated-declarations]\n",
      "  \u001b[31m   \u001b[0m     xmlXPathInit();\n",
      "  \u001b[31m   \u001b[0m     ^\n",
      "  \u001b[31m   \u001b[0m /opt/anaconda3/include/libxml2/libxml/xpath.h:566:1: note: 'xmlXPathInit' has been explicitly marked deprecated here\n",
      "  \u001b[31m   \u001b[0m XML_DEPRECATED\n",
      "  \u001b[31m   \u001b[0m ^\n",
      "  \u001b[31m   \u001b[0m /opt/anaconda3/include/libxml2/libxml/xmlexports.h:69:43: note: expanded from macro 'XML_DEPRECATED'\n",
      "  \u001b[31m   \u001b[0m     #define XML_DEPRECATED __attribute__((deprecated))\n",
      "  \u001b[31m   \u001b[0m                                           ^\n",
      "  \u001b[31m   \u001b[0m 1 warning generated.\n",
      "  \u001b[31m   \u001b[0m cc var/folders/bw/zk_mjw4j7wj3_t08__wfjnl00000gn/T/xmlXPathInitpzk__23o.o -L/opt/anaconda3/lib -L/opt/anaconda3/lib -L/opt/anaconda3/lib -L/opt/anaconda3/lib -L/opt/anaconda3/lib -lxml2 -o a.out\n",
      "  \u001b[31m   \u001b[0m error: command '/usr/bin/clang' failed with exit code 1\n",
      "  \u001b[31m   \u001b[0m \u001b[31m[end of output]\u001b[0m\n",
      "  \n",
      "  \u001b[1;35mnote\u001b[0m: This error originates from a subprocess, and is likely not a problem with pip.\n",
      "\u001b[31m  ERROR: Failed building wheel for lxml\u001b[0m\u001b[31m\n",
      "\u001b[0m\u001b[?25h  Running setup.py clean for lxml\n",
      "Failed to build lxml\n",
      "\u001b[31mERROR: Could not build wheels for lxml, which is required to install pyproject.toml-based projects\u001b[0m\u001b[31m\n",
      "\u001b[0m\n",
      "Looking for: ['html5lib==1.1']\n",
      "\n",
      "\u001b[?25l\u001b[2K\u001b[0G[+] 0.0s\n",
      "\u001b[2K\u001b[1A\u001b[2K\u001b[0G[+] 0.1s\n",
      "pkgs/main/osx-64 \u001b[33m━━━━━━━━━━╸\u001b[0m\u001b[90m━━━━━━━━━━━━━━━━\u001b[0m   0.0 B /  ??.?MB @  ??.?MB/s  0.1s\n",
      "pkgs/main/noarch \u001b[33m━━━━━━━━━╸\u001b[0m\u001b[90m━━━━━━━━━━━━━━━━━\u001b[0m   0.0 B /  ??.?MB @  ??.?MB/s  0.1s\n",
      "pkgs/r/osx-64    \u001b[90m━━━━━━╸\u001b[0m\u001b[33m━━━━━━━━━━━━━━━╸\u001b[0m\u001b[90m━━━━\u001b[0m   0.0 B /  ??.?MB @  ??.?MB/s  0.1s\n",
      "pkgs/r/noarch    \u001b[90m━━━━━━╸\u001b[0m\u001b[33m━━━━━━━━━━━━━━━╸\u001b[0m\u001b[90m━━━━\u001b[0m   0.0 B /  ??.?MB @  ??.?MB/s  0.1s\u001b[2K\u001b[1A\u001b[2K\u001b[1A\u001b[2K\u001b[1A\u001b[2K\u001b[1A\u001b[2K\u001b[0Gpkgs/main/osx-64                                              No change\n",
      "[+] 0.2s\n",
      "pkgs/main/noarch \u001b[33m━━━━━━━━━━╸\u001b[0m\u001b[90m━━━━━━━━━━━━━━━━\u001b[0m   0.0 B /  ??.?MB @  ??.?MB/s  0.2s\n",
      "pkgs/r/osx-64    \u001b[90m━━━━━━━╸\u001b[0m\u001b[33m━━━━━━━━━━━━━━━╸\u001b[0m\u001b[90m━━━\u001b[0m   0.0 B /  ??.?MB @  ??.?MB/s  0.2s\n",
      "pkgs/r/noarch    \u001b[90m━━━━━━━╸\u001b[0m\u001b[33m━━━━━━━━━━━━━━━╸\u001b[0m\u001b[90m━━━\u001b[0m   0.0 B /  ??.?MB @  ??.?MB/s  0.2s\u001b[2K\u001b[1A\u001b[2K\u001b[1A\u001b[2K\u001b[1A\u001b[2K\u001b[0Gpkgs/r/noarch                                                 No change\n",
      "pkgs/main/noarch                                              No change\n",
      "pkgs/r/osx-64                                                 No change\n",
      "\u001b[?25h\n",
      "Pinned packages:\n",
      "  - python 3.12.*\n",
      "\n",
      "\n",
      "Transaction\n",
      "\n",
      "  Prefix: /opt/anaconda3\n",
      "\n",
      "  Updating specs:\n",
      "\n",
      "   - html5lib==1.1\n",
      "   - ca-certificates\n",
      "   - openssl\n",
      "\n",
      "\n",
      "  Package     Version  Build         Channel       Size\n",
      "─────────────────────────────────────────────────────────\n",
      "  Install:\n",
      "─────────────────────────────────────────────────────────\n",
      "\n",
      "  \u001b[32m+ html5lib\u001b[0m      1.1  pyhd3eb1b0_0  pkgs/main     93kB\n",
      "\n",
      "  Summary:\n",
      "\n",
      "  Install: 1 packages\n",
      "\n",
      "  Total download: 93kB\n",
      "\n",
      "─────────────────────────────────────────────────────────\n",
      "\n",
      "\n",
      "\u001b[?25l\u001b[2K\u001b[0G[+] 0.0s\n",
      "Downloading  (1) \u001b[33m━━━━━━━━━━━━━━━━━━━━━━━\u001b[0m   0.0 B html5lib                   0.0s\n",
      "Extracting       \u001b[90m━━━━━━━━━━━━━━━━━━━━━━━\u001b[0m       0                            0.0s\u001b[2K\u001b[1A\u001b[2K\u001b[1A\u001b[2K\u001b[0G[+] 0.1s\n",
      "Downloading  (1) \u001b[33m━━━━━━━━━━━━━━━━━━━━━━━\u001b[0m   0.0 B html5lib                   0.1s\n",
      "Extracting       \u001b[90m━━━━━━━━━━━━━━━━━━━━━━━\u001b[0m       0                            0.0s\u001b[2K\u001b[1A\u001b[2K\u001b[1A\u001b[2K\u001b[0G[+] 0.2s\n",
      "Downloading  (1) \u001b[33m━━━━━━━━━━━━━━━━━━━━━━━\u001b[0m   0.0 B html5lib                   0.2s\n",
      "Extracting       \u001b[90m━━━━━━━━━━━━━━━━━━━━━━━\u001b[0m       0                            0.0s\u001b[2K\u001b[1A\u001b[2K\u001b[1A\u001b[2K\u001b[0G[+] 0.3s\n",
      "Downloading  (1) \u001b[33m━━━━━━━━━━━━━━━━━━━━━━━\u001b[0m   0.0 B html5lib                   0.3s\n",
      "Extracting       \u001b[90m━━━━━━━━━━━━━━━━━━━━━━━\u001b[0m       0                            0.0s\u001b[2K\u001b[1A\u001b[2K\u001b[1A\u001b[2K\u001b[0G[+] 0.4s\n",
      "Downloading  (1) \u001b[33m━━━━━━━━━━━━━━━━━━━━━━━\u001b[0m   0.0 B html5lib                   0.4s\n",
      "Extracting       \u001b[90m━━━━━━━━━━━━━━━━━━━━━━━\u001b[0m       0                            0.0s\u001b[2K\u001b[1A\u001b[2K\u001b[1A\u001b[2K\u001b[0G[+] 0.5s\n",
      "Downloading  (1) \u001b[33m━━━━━━━━━━━━━━━━━━━━━━━\u001b[0m   0.0 B html5lib                   0.5s\n",
      "Extracting       \u001b[90m━━━━━━━━━━━━━━━━━━━━━━━\u001b[0m       0                            0.0s\u001b[2K\u001b[1A\u001b[2K\u001b[1A\u001b[2K\u001b[0G[+] 0.6s\n",
      "Downloading  (1) \u001b[33m━━━━━━━━━━━━━━━━━━━━━━━\u001b[0m   0.0 B html5lib                   0.6s\n",
      "Extracting       \u001b[90m━━━━━━━━━━━━━━━━━━━━━━━\u001b[0m       0                            0.0s\u001b[2K\u001b[1A\u001b[2K\u001b[1A\u001b[2K\u001b[0G[+] 0.7s\n",
      "Downloading  (1) \u001b[33m━━━━━━━━━━━━━━━━━━━━━━━\u001b[0m   1.8kB html5lib                   0.7s\n",
      "Extracting       \u001b[90m━━━━━━━━━━━━━━━━━━━━━━━\u001b[0m       0                            0.0s\u001b[2K\u001b[1A\u001b[2K\u001b[1A\u001b[2K\u001b[0Ghtml5lib                                            93.0kB @ 130.1kB/s  0.7s\n",
      "[+] 0.8s\n",
      "Downloading      ━━━━━━━━━━━━━━━━━━━━━━━  93.0kB                            0.8s\n",
      "Extracting   (1) \u001b[33m━━━━━━━━━━━━╸\u001b[0m\u001b[90m━━━━━━━━━━\u001b[0m       0 html5lib                   0.0s\u001b[2K\u001b[1A\u001b[2K\u001b[1A\u001b[2K\u001b[0G[+] 0.9s\n",
      "Downloading      ━━━━━━━━━━━━━━━━━━━━━━━  93.0kB                            0.8s\n",
      "Extracting   (1) \u001b[33m━━━━━━━━━━━━━╸\u001b[0m\u001b[90m━━━━━━━━━\u001b[0m       0 html5lib                   0.1s\u001b[2K\u001b[1A\u001b[2K\u001b[1A\u001b[2K\u001b[0G[+] 1.0s\n",
      "Downloading      ━━━━━━━━━━━━━━━━━━━━━━━  93.0kB                            0.8s\n",
      "Extracting   (1) \u001b[33m━━━━━━━━━━━━━━╸\u001b[0m\u001b[90m━━━━━━━━\u001b[0m       0 html5lib                   0.2s\u001b[2K\u001b[1A\u001b[2K\u001b[1A\u001b[2K\u001b[0G[+] 1.1s\n",
      "Downloading      ━━━━━━━━━━━━━━━━━━━━━━━  93.0kB                            0.8s\n",
      "Extracting   (1) \u001b[33m━━━━━━━━━━━━━━━╸\u001b[0m\u001b[90m━━━━━━━\u001b[0m       0 html5lib                   0.3s\u001b[2K\u001b[1A\u001b[2K\u001b[1A\u001b[2K\u001b[0G[+] 1.2s\n",
      "Downloading      ━━━━━━━━━━━━━━━━━━━━━━━  93.0kB                            0.8s\n",
      "Extracting   (1) \u001b[90m╸\u001b[0m\u001b[33m━━━━━━━━━━━━━━━╸\u001b[0m\u001b[90m━━━━━━\u001b[0m       0 html5lib                   0.4s\u001b[2K\u001b[1A\u001b[2K\u001b[1A\u001b[2K\u001b[0G[+] 1.3s\n",
      "Downloading      ━━━━━━━━━━━━━━━━━━━━━━━  93.0kB                            0.8s\n",
      "Extracting   (1) \u001b[90m━╸\u001b[0m\u001b[33m━━━━━━━━━━━━━━━╸\u001b[0m\u001b[90m━━━━━\u001b[0m       0 html5lib                   0.5s\u001b[2K\u001b[1A\u001b[2K\u001b[1A\u001b[2K\u001b[0G[+] 1.4s\n",
      "Downloading      ━━━━━━━━━━━━━━━━━━━━━━━  93.0kB                            0.8s\n",
      "Extracting   (1) \u001b[90m━━╸\u001b[0m\u001b[33m━━━━━━━━━━━━━━━╸\u001b[0m\u001b[90m━━━━\u001b[0m       0 html5lib                   0.6s\u001b[2K\u001b[1A\u001b[2K\u001b[1A\u001b[2K\u001b[0G[+] 1.5s\n",
      "Downloading      ━━━━━━━━━━━━━━━━━━━━━━━  93.0kB                            0.8s\n",
      "Extracting   (1) \u001b[90m━━━━╸\u001b[0m\u001b[33m━━━━━━━━━━━━━━━╸\u001b[0m\u001b[90m━━\u001b[0m       0 html5lib                   0.7s\u001b[2K\u001b[1A\u001b[2K\u001b[1A\u001b[2K\u001b[0G[+] 1.6s\n",
      "Downloading      ━━━━━━━━━━━━━━━━━━━━━━━  93.0kB                            0.8s\n",
      "Extracting   (1) \u001b[90m━━━━━╸\u001b[0m\u001b[33m━━━━━━━━━━━━━━━╸\u001b[0m\u001b[90m━\u001b[0m       0 html5lib                   0.8s*** Terminating app due to uncaught exception 'NSInvalidArgumentException', reason: '-[__NSCFString stringByStandardizingPath]: unrecognized selector sent to instance 0x600003cc8700'\n",
      "*** First throw call stack:\n",
      "(\n",
      "\t0   CoreFoundation                      0x00007ff80dc53dc6 __exceptionPreprocess + 242\n",
      "\t1   libobjc.A.dylib                     0x00007ff80d743e9d objc_exception_throw + 48\n",
      "\t2   CoreFoundation                      0x00007ff80dcf9434 -[NSObject(NSObject) __retain_OA] + 0\n",
      "\t3   CoreFoundation                      0x00007ff80dbc13a3 ___forwarding___ + 1379\n",
      "\t4   CoreFoundation                      0x00007ff80dbc0db8 _CF_forwarding_prep_0 + 120\n",
      "\t5   Foundation                          0x00007ff80eb3b66f -[NSProcessInfo arguments] + 203\n",
      "\t6   CoreFoundation                      0x00007ff80dcc6ce5 __getDefaultArguments_block_invoke + 101\n",
      "\t7   libdispatch.dylib                   0x00007ff80d962dbc _dispatch_client_callout + 8\n",
      "\t8   libdispatch.dylib                   0x00007ff80d96404e _dispatch_once_callout + 20\n",
      "\t9   CoreFoundation                      0x00007ff80dcc66f6 _addBackstopValuesForIdentifierAndSource + 636\n",
      "\t10  CoreFoundation                      0x00007ff80db8d39d __81-[_CFXPreferences(SourceAdditions) withNamedVolatileSourceForIdentifier:perform:]_block_invoke + 151\n",
      "\t11  CoreFoundation                      0x00007ff80dcc63b5 -[_CFXPreferences withNamedVolatileSourceForIdentifier:perform:] + 241\n",
      "\t12  CoreFoundation                      0x00007ff80db93f80 -[CFPrefsSearchListSource addNamedVolatileSourceForIdentifier:] + 98\n",
      "\t13  CoreFoundation                      0x00007ff80dd00e0e __108-[_CFXPreferences(SearchListAdditions) withSearchListForIdentifier:container:cloudConfigurationURL:perform:]_block_invoke.160 + 310\n",
      "\t14  CoreFoundation                      0x00007ff80dd00ac8 -[_CFXPreferences withSearchLists:] + 60\n",
      "\t15  CoreFoundation                      0x00007ff80db8e9bb __108-[_CFXPreferences(SearchListAdditions) withSearchListForIdentifier:container:cloudConfigurationURL:perform:]_block_invoke + 278\n",
      "\t16  CoreFoundation                      0x00007ff80dd00c57 -[_CFXPreferences withSearchListForIdentifier:container:cloudConfigurationURL:perform:] + 372\n",
      "\t17  CoreFoundation                      0x00007ff80db8e442 -[_CFXPreferences copyAppValueForKey:identifier:container:configurationURL:] + 124\n",
      "\t18  CoreFoundation                      0x00007ff80db8e388 _CFPreferencesCopyAppValueWithContainerAndConfiguration + 101\n",
      "\t19  SystemConfiguration                 0x00007ff80e7e87cb SCDynamicStoreCopyProxiesWithOptions + 155\n",
      "\t20  libcurl.4.dylib                     0x0000000104b54f1b Curl_macos_init + 11\n",
      "\t21  libcurl.4.dylib                     0x0000000104b31401 global_init + 145\n",
      "\t22  libcurl.4.dylib                     0x0000000104b31358 curl_global_init + 56\n",
      "\t23  libmamba.2.0.0.dylib                0x0000000104c78821 _GLOBAL__sub_I_singletons.cpp + 17\n",
      "\t24  dyld                                0x00007ff80d78f39f ___ZZNK5dyld46Loader25findAndRunAllInitializersERNS_12RuntimeStateEENK3$_0clEv_block_invoke + 185\n",
      "\t25  dyld                                0x00007ff80d7c94c8 ___ZNK5dyld313MachOAnalyzer18forEachInitializerER11DiagnosticsRKNS0_15VMAddrConverterEU13block_pointerFvjEPKv_block_invoke.175 + 133\n",
      "\t26  dyld                                0x00007ff80d7bdbcf ___ZNK5dyld39MachOFile14forEachSectionEU13block_pointerFvRKNS0_11SectionInfoEbRbE_block_invoke + 543\n",
      "\t27  dyld                                0x00007ff80d77407f _ZNK5dyld39MachOFile18forEachLoadCommandER11DiagnosticsU13block_pointerFvPK12load_commandRbE + 249\n",
      "\t28  dyld                                0x00007ff80d7bcd0c _ZNK5dyld39MachOFile14forEachSectionEU13block_pointerFvRKNS0_11SectionInfoEbRbE + 176\n",
      "\t29  dyld                                0x00007ff80d7bf1b0 _ZNK5dyld39MachOFile32forEachInitializerPointerSectionER11DiagnosticsU13block_pointerFvjjRbE + 116\n",
      "\t30  dyld                                0x00007ff80d7c91fe _ZNK5dyld313MachOAnalyzer18forEachInitializerER11DiagnosticsRKNS0_15VMAddrConverterEU13block_pointerFvjEPKv + 390\n",
      "\t31  dyld                                0x00007ff80d78c0cd _ZNK5dyld46Loader25findAndRunAllInitializersERNS_12RuntimeStateE + 225\n",
      "\t32  dyld                                0x00007ff80d7919c9 _ZNK5dyld416JustInTimeLoader15runInitializersERNS_12RuntimeStateE + 21\n",
      "\t33  dyld                                0x00007ff80d78c2e5 _ZNK5dyld46Loader23runInitializersBottomUpERNS_12RuntimeStateERN5dyld35ArrayIPKS0_EE + 213\n",
      "\t34  dyld                                0x00007ff80d78c28f _ZNK5dyld46Loader23runInitializersBottomUpERNS_12RuntimeStateERN5dyld35ArrayIPKS0_EE + 127\n",
      "\t35  dyld                                0x00007ff80d78f414 _ZZNK5dyld46Loader38runInitializersBottomUpPlusUpwardLinksERNS_12RuntimeStateEENK3$_1clEv + 98\n",
      "\t36  dyld                                0x00007ff80d78c37e _ZNK5dyld46Loader38runInitializersBottomUpPlusUpwardLinksERNS_12RuntimeStateE + 96\n",
      "\t37  dyld                                0x00007ff80d7abd9a _ZN5dyld44APIs25runAllInitializersForMainEv + 326\n",
      "\t38  dyld                                0x00007ff80d779203 _ZN5dyld4L7prepareERNS_4APIsEPKN5dyld313MachOAnalyzerE + 3364\n",
      "\t39  dyld                                0x00007ff80d7782ff start + 1839\n",
      ")\n",
      "libc++abi: terminating due to uncaught exception of type NSException\n",
      "\u001b[31m\u001b[1merror    libmamba\u001b[m Error opening for reading \"/opt/anaconda3/pkgs/html5lib-1.1-pyhd3eb1b0_0/info/index.json\": No such file or directory\n",
      "\u001b[31m\u001b[1merror    libmamba\u001b[m Error when extracting package: [json.exception.parse_error.101] parse error at line 1, column 1: attempting to parse an empty input; check that your input string or stream contains the expected JSON\n",
      "\u001b[2K\u001b[1A\u001b[2K\u001b[1A\u001b[2K\u001b[0Ghtml5lib-1.1-pyhd3eb1b0_0.conda extraction failed\n",
      "\u001b[?25hFound incorrect download: html5lib. Aborting\n",
      "\n",
      "# >>>>>>>>>>>>>>>>>>>>>> ERROR REPORT <<<<<<<<<<<<<<<<<<<<<<\n",
      "\n",
      "    Traceback (most recent call last):\n",
      "      File \"/opt/anaconda3/lib/python3.12/site-packages/conda/exception_handler.py\", line 18, in __call__\n",
      "        return func(*args, **kwargs)\n",
      "               ^^^^^^^^^^^^^^^^^^^^^\n",
      "      File \"/opt/anaconda3/lib/python3.12/site-packages/mamba/mamba.py\", line 959, in exception_converter\n",
      "        raise e\n",
      "      File \"/opt/anaconda3/lib/python3.12/site-packages/mamba/mamba.py\", line 952, in exception_converter\n",
      "        exit_code = _wrapped_main(*args, **kwargs)\n",
      "                    ^^^^^^^^^^^^^^^^^^^^^^^^^^^^^^\n",
      "      File \"/opt/anaconda3/lib/python3.12/site-packages/mamba/mamba.py\", line 898, in _wrapped_main\n",
      "        result = do_call(parsed_args, p)\n",
      "                 ^^^^^^^^^^^^^^^^^^^^^^^\n",
      "      File \"/opt/anaconda3/lib/python3.12/site-packages/mamba/mamba.py\", line 763, in do_call\n",
      "        exit_code = install(args, parser, \"install\")\n",
      "                    ^^^^^^^^^^^^^^^^^^^^^^^^^^^^^^^^\n",
      "      File \"/opt/anaconda3/lib/python3.12/site-packages/mamba/mamba.py\", line 558, in install\n",
      "        transaction.fetch_extract_packages()\n",
      "    RuntimeError: Found incorrect download: html5lib. Aborting\n",
      "\n",
      "`$ /opt/anaconda3/bin/mamba install html5lib==1.1 -y`\n",
      "\n",
      "  environment variables:\n",
      "                 CIO_TEST=<not set>\n",
      "    CONDA_ALLOW_SOFTLINKS=false\n",
      "        CONDA_DEFAULT_ENV=base\n",
      "                CONDA_EXE=/opt/anaconda3/bin/conda\n",
      "             CONDA_PREFIX=/opt/anaconda3\n",
      "    CONDA_PROMPT_MODIFIER=(base)\n",
      "         CONDA_PYTHON_EXE=/opt/anaconda3/bin/python\n",
      "               CONDA_ROOT=/opt/anaconda3\n",
      "              CONDA_SHLVL=1\n",
      "           CURL_CA_BUNDLE=<not set>\n",
      "               LD_PRELOAD=<not set>\n",
      "                     PATH=/opt/anaconda3/bin:/Library/Frameworks/Python.framework/Versions/3.9/b\n",
      "                          in:/Library/Frameworks/Python.framework/Versions/3.6/bin:/usr/local/bi\n",
      "                          n:/System/Cryptexes/App/usr/bin:/usr/bin:/bin:/usr/sbin:/sbin:/var/run\n",
      "                          /com.apple.security.cryptexd/codex.system/bootstrap/usr/local/bin:/var\n",
      "                          /run/com.apple.security.cryptexd/codex.system/bootstrap/usr/bin:/var/r\n",
      "                          un/com.apple.security.cryptexd/codex.system/bootstrap/usr/appleinterna\n",
      "                          l/bin\n",
      "       REQUESTS_CA_BUNDLE=<not set>\n",
      "            SSL_CERT_FILE=<not set>\n",
      "\n",
      "     active environment : base\n",
      "    active env location : /opt/anaconda3\n",
      "            shell level : 1\n",
      "       user config file : /Users/thando/.condarc\n",
      " populated config files : /Users/thando/.condarc\n",
      "          conda version : 24.7.1\n",
      "    conda-build version : 24.5.1\n",
      "         python version : 3.12.2.final.0\n",
      "                 solver : libmamba (default)\n",
      "       virtual packages : __archspec=1=skylake\n",
      "                          __conda=24.7.1=0\n",
      "                          __osx=14.5=0\n",
      "                          __unix=0=0\n",
      "       base environment : /opt/anaconda3  (writable)\n",
      "      conda av data dir : /opt/anaconda3/etc/conda\n",
      "  conda av metadata url : None\n",
      "           channel URLs : https://repo.anaconda.com/pkgs/main/osx-64\n",
      "                          https://repo.anaconda.com/pkgs/main/noarch\n",
      "                          https://repo.anaconda.com/pkgs/r/osx-64\n",
      "                          https://repo.anaconda.com/pkgs/r/noarch\n",
      "          package cache : /opt/anaconda3/pkgs\n",
      "                          /Users/thando/.conda/pkgs\n",
      "       envs directories : /opt/anaconda3/envs\n",
      "                          /Users/thando/.conda/envs\n",
      "               platform : osx-64\n",
      "             user-agent : conda/24.7.1 requests/2.32.2 CPython/3.12.2 Darwin/23.5.0 OSX/14.5 solver/libmamba conda-libmamba-solver/24.1.0 libmambapy/1.5.8\n",
      "                UID:GID : 501:20\n",
      "             netrc file : None\n",
      "           offline mode : False\n",
      "\n",
      "\n",
      "An unexpected error has occurred. Conda has prepared the above report.\n",
      "If you suspect this error is being caused by a malfunctioning plugin,\n",
      "consider using the --no-plugins option to turn off plugins.\n",
      "\n",
      "Example: conda --no-plugins install <package>\n",
      "\n",
      "Alternatively, you can set the CONDA_NO_PLUGINS environment variable on\n",
      "the command line to run the command without plugins enabled.\n",
      "\n",
      "Example: CONDA_NO_PLUGINS=true conda install <package>\n",
      "\n"
     ]
    }
   ],
   "source": [
    "!mamba install bs4==4.10.0 -y\n",
    "!pip install lxml==4.6.4\n",
    "!mamba install html5lib==1.1 -y\n",
    "# !pip install requests==2.26.0"
   ]
  },
  {
   "cell_type": "code",
   "execution_count": 8,
   "id": "25d3cecf-e302-4a37-9fb8-20464a4c30e9",
   "metadata": {},
   "outputs": [],
   "source": [
    "from bs4 import BeautifulSoup # this module helps in web scrapping.\n",
    "import requests  # this module helps us to download a web page"
   ]
  },
  {
   "cell_type": "code",
   "execution_count": 27,
   "id": "fa23155a-3a83-413d-bee1-da8a68cc75ee",
   "metadata": {},
   "outputs": [
    {
     "data": {
      "text/html": [
       "<!DOCTYPE html>\n",
       "<html>\n",
       "<head>\n",
       "<title>Page Title</title>\n",
       "</head>\n",
       "<body>\n",
       "<h3><b id='boldest'>Lebron James</b></h3>\n",
       "<p> Salary: $ 92,000,000 </p>\n",
       "<h3> Stephen Curry</h3>\n",
       "<p> Salary: $85,000, 000 </p>\n",
       "<h3> Kevin Durant </h3>\n",
       "<p> Salary: $73,200, 000</p>\n",
       "</body>\n",
       "</html>\n"
      ],
      "text/plain": [
       "<IPython.core.display.HTML object>"
      ]
     },
     "metadata": {},
     "output_type": "display_data"
    }
   ],
   "source": [
    "%%html\n",
    "<!DOCTYPE html>\n",
    "<html>\n",
    "<head>\n",
    "<title>Page Title</title>\n",
    "</head>\n",
    "<body>\n",
    "<h3><b id='boldest'>Lebron James</b></h3>\n",
    "<p> Salary: $ 92,000,000 </p>\n",
    "<h3> Stephen Curry</h3>\n",
    "<p> Salary: $85,000, 000 </p>\n",
    "<h3> Kevin Durant </h3>\n",
    "<p> Salary: $73,200, 000</p>\n",
    "</body>\n",
    "</html>"
   ]
  },
  {
   "cell_type": "code",
   "execution_count": 14,
   "id": "34e2b585-383a-4550-a8b4-00748683a253",
   "metadata": {},
   "outputs": [],
   "source": [
    "html=\"<!DOCTYPE html><html><head><title>Page Title</title></head><body><h3><b id='boldest'>Lebron James</b></h3><p> Salary: $ 92,000,000 </p><h3> Stephen Curry</h3><p> Salary: $85,000, 000 </p><h3> Kevin Durant </h3><p> Salary: $73,200, 000</p></body></html>\""
   ]
  },
  {
   "cell_type": "code",
   "execution_count": 16,
   "id": "70709c39-5d41-4ce6-9b9d-f05e1543206a",
   "metadata": {},
   "outputs": [],
   "source": [
    "soup = BeautifulSoup(html, \"html.parser\")"
   ]
  },
  {
   "cell_type": "code",
   "execution_count": 18,
   "id": "c0da107f-4115-4da0-b053-737196406907",
   "metadata": {},
   "outputs": [
    {
     "name": "stdout",
     "output_type": "stream",
     "text": [
      "<!DOCTYPE html>\n",
      "<html>\n",
      " <head>\n",
      "  <title>\n",
      "   Page Title\n",
      "  </title>\n",
      " </head>\n",
      " <body>\n",
      "  <h3>\n",
      "   <b id=\"boldest\">\n",
      "    Lebron James\n",
      "   </b>\n",
      "  </h3>\n",
      "  <p>\n",
      "   Salary: $ 92,000,000\n",
      "  </p>\n",
      "  <h3>\n",
      "   Stephen Curry\n",
      "  </h3>\n",
      "  <p>\n",
      "   Salary: $85,000, 000\n",
      "  </p>\n",
      "  <h3>\n",
      "   Kevin Durant\n",
      "  </h3>\n",
      "  <p>\n",
      "   Salary: $73,200, 000\n",
      "  </p>\n",
      " </body>\n",
      "</html>\n",
      "\n"
     ]
    }
   ],
   "source": [
    "print(soup.prettify())"
   ]
  },
  {
   "cell_type": "code",
   "execution_count": 20,
   "id": "6447c54c-4508-40f2-8c7d-510ca7e5e7a2",
   "metadata": {},
   "outputs": [
    {
     "name": "stdout",
     "output_type": "stream",
     "text": [
      "tag object: <title>Page Title</title>\n"
     ]
    }
   ],
   "source": [
    "tag_object=soup.title\n",
    "print(\"tag object:\",tag_object)"
   ]
  },
  {
   "cell_type": "code",
   "execution_count": 22,
   "id": "3b91e8b7-7b99-473d-a8ad-a2d194f93a25",
   "metadata": {},
   "outputs": [
    {
     "name": "stdout",
     "output_type": "stream",
     "text": [
      "tag object type: <class 'bs4.element.Tag'>\n"
     ]
    }
   ],
   "source": [
    "print(\"tag object type:\",type(tag_object))"
   ]
  },
  {
   "cell_type": "code",
   "execution_count": 24,
   "id": "dc6c78da-ef8f-4f5e-965d-f9b800b397e0",
   "metadata": {},
   "outputs": [
    {
     "data": {
      "text/plain": [
       "<h3><b id=\"boldest\">Lebron James</b></h3>"
      ]
     },
     "execution_count": 24,
     "metadata": {},
     "output_type": "execute_result"
    }
   ],
   "source": [
    "tag_object=soup.h3\n",
    "tag_object"
   ]
  },
  {
   "cell_type": "code",
   "execution_count": 26,
   "id": "022a9917-cf6d-4fb7-9055-6a188c18a7b1",
   "metadata": {},
   "outputs": [
    {
     "data": {
      "text/plain": [
       "<b id=\"boldest\">Lebron James</b>"
      ]
     },
     "execution_count": 26,
     "metadata": {},
     "output_type": "execute_result"
    }
   ],
   "source": [
    "tag_child =tag_object.b\n",
    "tag_child"
   ]
  },
  {
   "cell_type": "code",
   "execution_count": 28,
   "id": "8e953c33-43ef-4e11-844f-85eb9948e61d",
   "metadata": {},
   "outputs": [
    {
     "data": {
      "text/plain": [
       "<h3><b id=\"boldest\">Lebron James</b></h3>"
      ]
     },
     "execution_count": 28,
     "metadata": {},
     "output_type": "execute_result"
    }
   ],
   "source": [
    "parent_tag=tag_child.parent\n",
    "parent_tag"
   ]
  },
  {
   "cell_type": "code",
   "execution_count": 30,
   "id": "c714c51e-6178-4ae4-a9a8-4c209c0b2cd7",
   "metadata": {},
   "outputs": [
    {
     "data": {
      "text/plain": [
       "<h3><b id=\"boldest\">Lebron James</b></h3>"
      ]
     },
     "execution_count": 30,
     "metadata": {},
     "output_type": "execute_result"
    }
   ],
   "source": [
    "tag_object"
   ]
  },
  {
   "cell_type": "code",
   "execution_count": 32,
   "id": "d6569e28-3285-4d49-9650-87c1c360df91",
   "metadata": {},
   "outputs": [
    {
     "data": {
      "text/plain": [
       "<body><h3><b id=\"boldest\">Lebron James</b></h3><p> Salary: $ 92,000,000 </p><h3> Stephen Curry</h3><p> Salary: $85,000, 000 </p><h3> Kevin Durant </h3><p> Salary: $73,200, 000</p></body>"
      ]
     },
     "execution_count": 32,
     "metadata": {},
     "output_type": "execute_result"
    }
   ],
   "source": [
    "tag_object.parent"
   ]
  },
  {
   "cell_type": "code",
   "execution_count": 34,
   "id": "f11de37b-ad30-489c-9821-958564c3b315",
   "metadata": {},
   "outputs": [
    {
     "data": {
      "text/plain": [
       "<p> Salary: $ 92,000,000 </p>"
      ]
     },
     "execution_count": 34,
     "metadata": {},
     "output_type": "execute_result"
    }
   ],
   "source": [
    "# tag_object sibling is the paragraph element\n",
    "\n",
    "sibling_1=tag_object.next_sibling\n",
    "sibling_1"
   ]
  },
  {
   "cell_type": "code",
   "execution_count": 36,
   "id": "de825408-772c-44d0-a512-31bb40e3194d",
   "metadata": {},
   "outputs": [
    {
     "data": {
      "text/plain": [
       "<h3> Stephen Curry</h3>"
      ]
     },
     "execution_count": 36,
     "metadata": {},
     "output_type": "execute_result"
    }
   ],
   "source": [
    "# sibling_2 is the header element which is also a sibling of both sibling_1 and tag_object\n",
    "\n",
    "sibling_2=sibling_1.next_sibling\n",
    "sibling_2"
   ]
  },
  {
   "cell_type": "code",
   "execution_count": 38,
   "id": "baee2b0c-09a6-478c-9b5d-ed2f86eb9c10",
   "metadata": {},
   "outputs": [
    {
     "data": {
      "text/plain": [
       "<p> Salary: $85,000, 000 </p>"
      ]
     },
     "execution_count": 38,
     "metadata": {},
     "output_type": "execute_result"
    }
   ],
   "source": [
    "\n",
    "sibling_2.next_sibling"
   ]
  },
  {
   "cell_type": "code",
   "execution_count": 42,
   "id": "f3df4e43-8f0f-4d08-b9f5-89cb9d8a4aa2",
   "metadata": {},
   "outputs": [
    {
     "data": {
      "text/plain": [
       "'boldest'"
      ]
     },
     "execution_count": 42,
     "metadata": {},
     "output_type": "execute_result"
    }
   ],
   "source": [
    "tag_child['id']"
   ]
  },
  {
   "cell_type": "code",
   "execution_count": 44,
   "id": "398146a1-1a7d-4df2-beb3-ee06ee6227ec",
   "metadata": {},
   "outputs": [
    {
     "data": {
      "text/plain": [
       "{'id': 'boldest'}"
      ]
     },
     "execution_count": 44,
     "metadata": {},
     "output_type": "execute_result"
    }
   ],
   "source": [
    "tag_child.attrs"
   ]
  },
  {
   "cell_type": "code",
   "execution_count": 46,
   "id": "de53b09d-7aef-4327-b13a-6e0a7ebb1f48",
   "metadata": {},
   "outputs": [
    {
     "data": {
      "text/plain": [
       "'boldest'"
      ]
     },
     "execution_count": 46,
     "metadata": {},
     "output_type": "execute_result"
    }
   ],
   "source": [
    "# We can also obtain the content if the attribute of the tag using the Python get() method.\n",
    "tag_child.get('id')"
   ]
  },
  {
   "cell_type": "code",
   "execution_count": null,
   "id": "2d9b0f5d-da60-410e-8f00-a01128d56c9d",
   "metadata": {},
   "outputs": [],
   "source": []
  }
 ],
 "metadata": {
  "kernelspec": {
   "display_name": "Python 3 (ipykernel)",
   "language": "python",
   "name": "python3"
  },
  "language_info": {
   "codemirror_mode": {
    "name": "ipython",
    "version": 3
   },
   "file_extension": ".py",
   "mimetype": "text/x-python",
   "name": "python",
   "nbconvert_exporter": "python",
   "pygments_lexer": "ipython3",
   "version": "3.12.4"
  }
 },
 "nbformat": 4,
 "nbformat_minor": 5
}
